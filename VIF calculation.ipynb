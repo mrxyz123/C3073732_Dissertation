{
 "cells": [
  {
   "cell_type": "code",
   "execution_count": 1,
   "id": "a2571567",
   "metadata": {},
   "outputs": [
    {
     "name": "stdout",
     "output_type": "stream",
     "text": [
      "\n",
      "Variance Inflation Factors:\n",
      "                                             Variable         VIF\n",
      "1                               Surface area (sq. km)  926.460388\n",
      "3                                  Land area (sq. km)  921.652463\n",
      "0                                               const   13.950538\n",
      "13            Land under cereal production (hectares)   12.613350\n",
      "7                              Arable land (hectares)   11.534940\n",
      "9   Agricultural nitrous oxide emissions (thousand...    9.698696\n",
      "5   Agricultural methane emissions (thousand metri...    9.284582\n",
      "2                          Agricultural land (sq. km)    6.019943\n",
      "6                                    Rural population    3.598688\n",
      "8   Agriculture, forestry, and fishing, value adde...    2.499671\n",
      "10                       Arable land (% of land area)    2.462800\n",
      "12                 Agricultural land (% of land area)    2.362758\n",
      "4                                Forest area (sq. km)    2.296228\n",
      "11       Average precipitation in depth (mm per year)    1.574086\n"
     ]
    }
   ],
   "source": [
    "import pandas as pd\n",
    "from statsmodels.stats.outliers_influence import variance_inflation_factor\n",
    "from statsmodels.tools.tools import add_constant\n",
    "\n",
    "\n",
    "file_path = \"MachineLearinningDataSet.csv\"  \n",
    "df = pd.read_csv(file_path, index_col=0)  \n",
    "\n",
    "\n",
    "variables = ['Surface area (sq. km)', 'Agricultural land (sq. km)', 'Land area (sq. km)', 'Forest area (sq. km)', 'Agricultural methane emissions (thousand metric tons of CO2 equivalent)', 'Rural population', 'Arable land (hectares)', 'Agriculture, forestry, and fishing, value added (current US$)', 'Agricultural nitrous oxide emissions (thousand metric tons of CO2 equivalent)', 'Arable land (% of land area)', 'Average precipitation in depth (mm per year)', 'Agricultural land (% of land area)', 'Land under cereal production (hectares)']\n",
    "target_column = 'Cereal production (metric tons)'\n",
    "\n",
    "\n",
    "# Calculate VIF \n",
    "X_selected = df[variables]\n",
    "X_selected = add_constant(X_selected) \n",
    "\n",
    "vif_data = pd.DataFrame()\n",
    "vif_data[\"Variable\"] = X_selected.columns\n",
    "vif_data[\"VIF\"] = [variance_inflation_factor(X_selected.values, i) for i in range(X_selected.shape[1])]\n",
    "\n",
    "print(\"\\nVariance Inflation Factors:\")\n",
    "print(vif_data.sort_values('VIF', ascending=False))\n"
   ]
  },
  {
   "cell_type": "code",
   "execution_count": 2,
   "id": "1a8dbf4e",
   "metadata": {},
   "outputs": [
    {
     "name": "stdout",
     "output_type": "stream",
     "text": [
      "\n",
      "'Surface area (sq. km)' removed.\n",
      "\n",
      "Variance Inflation Factors (after removing 'Surface area (sq. km)'):\n",
      "                                             Variable        VIF\n",
      "0                                               const  13.877116\n",
      "12            Land under cereal production (hectares)  12.611774\n",
      "6                              Arable land (hectares)  11.516046\n",
      "8   Agricultural nitrous oxide emissions (thousand...   9.693730\n",
      "4   Agricultural methane emissions (thousand metri...   9.279304\n",
      "2                                  Land area (sq. km)   7.112401\n",
      "1                          Agricultural land (sq. km)   6.013953\n",
      "5                                    Rural population   3.594188\n",
      "7   Agriculture, forestry, and fishing, value adde...   2.491698\n",
      "9                        Arable land (% of land area)   2.462475\n",
      "11                 Agricultural land (% of land area)   2.354741\n",
      "3                                Forest area (sq. km)   2.239440\n",
      "10       Average precipitation in depth (mm per year)   1.572727\n",
      "\n",
      "Features with high VIF (> 5):\n",
      "['Agricultural land (sq. km)', 'Land area (sq. km)', 'Agricultural methane emissions (thousand metric tons of CO2 equivalent)', 'Arable land (hectares)', 'Agricultural nitrous oxide emissions (thousand metric tons of CO2 equivalent)', 'Land under cereal production (hectares)']\n"
     ]
    }
   ],
   "source": [
    "# Remove 'Surface area (sq. km)' \n",
    "if 'Surface area (sq. km)' in variables:\n",
    "    variables.remove('Surface area (sq. km)')\n",
    "    print(\"\\n'Surface area (sq. km)' removed.\")\n",
    "\n",
    "# Re-Calculate VIF (excluding 'Surface area (sq. km)')\n",
    "X_selected = df[variables]\n",
    "X_selected = add_constant(X_selected)  # Add constant term to dataframe\n",
    "\n",
    "vif_data = pd.DataFrame()\n",
    "vif_data[\"Variable\"] = X_selected.columns\n",
    "vif_data[\"VIF\"] = [variance_inflation_factor(X_selected.values, i) for i in range(X_selected.shape[1])]\n",
    "\n",
    "print(\"\\nVariance Inflation Factors (after removing 'Surface area (sq. km)'):\")\n",
    "print(vif_data.sort_values('VIF', ascending=False))\n",
    "\n",
    "# Identify features with high VIF (e.g., VIF > 5)\n",
    "high_vif_features = vif_data[vif_data['VIF'] > 5]['Variable'].tolist()\n",
    "if 'const' in high_vif_features:\n",
    "    high_vif_features.remove('const')  \n",
    "\n",
    "print(\"\\nFeatures with high VIF (> 5):\")\n",
    "print(high_vif_features)\n"
   ]
  },
  {
   "cell_type": "code",
   "execution_count": 3,
   "id": "42f33479",
   "metadata": {},
   "outputs": [
    {
     "name": "stdout",
     "output_type": "stream",
     "text": [
      "\n",
      "'Agricultural nitrous oxide emissions (thousand metric tons of CO2 equivalent)' removed from selected features.\n",
      "\n",
      "Variance Inflation Factors (after removing 'Agricultural nitrous oxide emissions (thousand metric tons of CO2 equivalent)'):\n",
      "                                             Variable        VIF\n",
      "0                                               const  13.379096\n",
      "11            Land under cereal production (hectares)  12.610243\n",
      "6                              Arable land (hectares)  11.240952\n",
      "2                                  Land area (sq. km)   7.098922\n",
      "1                          Agricultural land (sq. km)   6.008371\n",
      "5                                    Rural population   3.423741\n",
      "4   Agricultural methane emissions (thousand metri...   2.895913\n",
      "8                        Arable land (% of land area)   2.462348\n",
      "7   Agriculture, forestry, and fishing, value adde...   2.358572\n",
      "10                 Agricultural land (% of land area)   2.354704\n",
      "3                                Forest area (sq. km)   2.165654\n",
      "9        Average precipitation in depth (mm per year)   1.501038\n",
      "\n",
      "Features with high VIF (> 5):\n",
      "['Agricultural land (sq. km)', 'Land area (sq. km)', 'Arable land (hectares)', 'Land under cereal production (hectares)']\n"
     ]
    }
   ],
   "source": [
    "# Remove 'Agricultural nitrous oxide emissions (thousand metric tons of CO2 equivalent)'\n",
    "if 'Agricultural nitrous oxide emissions (thousand metric tons of CO2 equivalent)' in variables:\n",
    "    variables.remove('Agricultural nitrous oxide emissions (thousand metric tons of CO2 equivalent)')\n",
    "    print(\"\\n'Agricultural nitrous oxide emissions (thousand metric tons of CO2 equivalent)' removed from selected features.\")\n",
    "\n",
    "# Calculate VIF for selected features (excluding 'Surface area (sq. km)' and 'Agricultural nitrous oxide emissions')\n",
    "X_selected = df[variables]\n",
    "X_selected = add_constant(X_selected)  # Add constant term to dataframe\n",
    "\n",
    "vif_data = pd.DataFrame()\n",
    "vif_data[\"Variable\"] = X_selected.columns\n",
    "vif_data[\"VIF\"] = [variance_inflation_factor(X_selected.values, i) for i in range(X_selected.shape[1])]\n",
    "\n",
    "print(\"\\nVariance Inflation Factors (after removing 'Agricultural nitrous oxide emissions (thousand metric tons of CO2 equivalent)'):\")\n",
    "print(vif_data.sort_values('VIF', ascending=False))\n",
    "\n",
    "# Identify features with high VIF (e.g., VIF > 5)\n",
    "high_vif_features = vif_data[vif_data['VIF'] > 5]['Variable'].tolist()\n",
    "if 'const' in high_vif_features:\n",
    "    high_vif_features.remove('const')  \n",
    "\n",
    "print(\"\\nFeatures with high VIF (> 5):\")\n",
    "print(high_vif_features)\n"
   ]
  },
  {
   "cell_type": "code",
   "execution_count": 4,
   "id": "fdbfa687",
   "metadata": {},
   "outputs": [
    {
     "name": "stdout",
     "output_type": "stream",
     "text": [
      "\n",
      "'Arable land (hectares)' removed from selected features.\n",
      "\n",
      "Variance Inflation Factors (after removing 'Arable land (hectares)'):\n",
      "                                             Variable        VIF\n",
      "0                                               const  13.376962\n",
      "2                                  Land area (sq. km)   7.053345\n",
      "1                          Agricultural land (sq. km)   5.786443\n",
      "10            Land under cereal production (hectares)   4.496713\n",
      "5                                    Rural population   3.188949\n",
      "4   Agricultural methane emissions (thousand metri...   2.875748\n",
      "7                        Arable land (% of land area)   2.405569\n",
      "9                  Agricultural land (% of land area)   2.345233\n",
      "6   Agriculture, forestry, and fishing, value adde...   2.340639\n",
      "3                                Forest area (sq. km)   2.152282\n",
      "8        Average precipitation in depth (mm per year)   1.493583\n",
      "\n",
      "Features with high VIF (> 5):\n",
      "['Agricultural land (sq. km)', 'Land area (sq. km)']\n"
     ]
    }
   ],
   "source": [
    "# Remove 'Arable land (hectares)'\n",
    "if 'Arable land (hectares)' in variables:\n",
    "    variables.remove('Arable land (hectares)')\n",
    "    print(\"\\n'Arable land (hectares)' removed from selected features.\")\n",
    "\n",
    "# Calculate VIF for selected features (excluding 'Surface area (sq. km)', 'Agricultural nitrous oxide emissions', and 'Arable land (hectares)')\n",
    "X_selected = df[variables]\n",
    "X_selected = add_constant(X_selected)  # Add constant term to dataframe\n",
    "\n",
    "vif_data = pd.DataFrame()\n",
    "vif_data[\"Variable\"] = X_selected.columns\n",
    "vif_data[\"VIF\"] = [variance_inflation_factor(X_selected.values, i) for i in range(X_selected.shape[1])]\n",
    "\n",
    "print(\"\\nVariance Inflation Factors (after removing 'Arable land (hectares)'):\")\n",
    "print(vif_data.sort_values('VIF', ascending=False))\n",
    "\n",
    "# Identify features with high VIF (e.g., VIF > 5)\n",
    "high_vif_features = vif_data[vif_data['VIF'] > 5]['Variable'].tolist()\n",
    "if 'const' in high_vif_features:\n",
    "    high_vif_features.remove('const')  \n",
    "\n",
    "print(\"\\nFeatures with high VIF (> 5):\")\n",
    "print(high_vif_features)\n"
   ]
  },
  {
   "cell_type": "code",
   "execution_count": 5,
   "id": "d0045b1f",
   "metadata": {},
   "outputs": [
    {
     "name": "stdout",
     "output_type": "stream",
     "text": [
      "\n",
      "'Land area (sq. km)' removed from selected features.\n",
      "\n",
      "Variance Inflation Factors (after removing 'Land area (sq. km)'):\n",
      "                                            Variable        VIF\n",
      "0                                              const  10.154430\n",
      "9            Land under cereal production (hectares)   4.474723\n",
      "4                                   Rural population   3.160876\n",
      "3  Agricultural methane emissions (thousand metri...   2.873508\n",
      "1                         Agricultural land (sq. km)   2.488640\n",
      "6                       Arable land (% of land area)   2.384182\n",
      "5  Agriculture, forestry, and fishing, value adde...   2.332830\n",
      "8                 Agricultural land (% of land area)   2.129998\n",
      "2                               Forest area (sq. km)   1.476139\n",
      "7       Average precipitation in depth (mm per year)   1.309663\n",
      "\n",
      "Features with high VIF (> 5):\n",
      "[]\n",
      "\n",
      "Final selected features:\n",
      "['Agricultural land (sq. km)', 'Forest area (sq. km)', 'Agricultural methane emissions (thousand metric tons of CO2 equivalent)', 'Rural population', 'Agriculture, forestry, and fishing, value added (current US$)', 'Arable land (% of land area)', 'Average precipitation in depth (mm per year)', 'Agricultural land (% of land area)', 'Land under cereal production (hectares)']\n"
     ]
    }
   ],
   "source": [
    "# Remove 'Land area (sq. km)'\n",
    "if 'Land area (sq. km)' in variables:\n",
    "    variables.remove('Land area (sq. km)')\n",
    "    print(\"\\n'Land area (sq. km)' removed from selected features.\")\n",
    "\n",
    "# Calculate VIF for selected features\n",
    "X_selected = df[variables]\n",
    "X_selected = add_constant(X_selected)  \n",
    "\n",
    "vif_data = pd.DataFrame()\n",
    "vif_data[\"Variable\"] = X_selected.columns\n",
    "vif_data[\"VIF\"] = [variance_inflation_factor(X_selected.values, i) for i in range(X_selected.shape[1])]\n",
    "\n",
    "print(\"\\nVariance Inflation Factors (after removing 'Land area (sq. km)'):\")\n",
    "print(vif_data.sort_values('VIF', ascending=False))\n",
    "\n",
    "# Identify features with high VIF (e.g., VIF > 5)\n",
    "high_vif_features = vif_data[vif_data['VIF'] > 5]['Variable'].tolist()\n",
    "if 'const' in high_vif_features:\n",
    "    high_vif_features.remove('const')  \n",
    "\n",
    "print(\"\\nFeatures with high VIF (> 5):\")\n",
    "print(high_vif_features)\n",
    "\n",
    "print(\"\\nFinal selected features:\")\n",
    "print([feature for feature in variables if feature != 'const'])\n"
   ]
  },
  {
   "cell_type": "code",
   "execution_count": null,
   "id": "92155c92",
   "metadata": {},
   "outputs": [],
   "source": []
  }
 ],
 "metadata": {
  "kernelspec": {
   "display_name": "Python 3 (ipykernel)",
   "language": "python",
   "name": "python3"
  },
  "language_info": {
   "codemirror_mode": {
    "name": "ipython",
    "version": 3
   },
   "file_extension": ".py",
   "mimetype": "text/x-python",
   "name": "python",
   "nbconvert_exporter": "python",
   "pygments_lexer": "ipython3",
   "version": "3.11.5"
  }
 },
 "nbformat": 4,
 "nbformat_minor": 5
}
