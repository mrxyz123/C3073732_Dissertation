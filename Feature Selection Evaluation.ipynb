{
 "cells": [
  {
   "cell_type": "code",
   "execution_count": 1,
   "id": "fe1d128b",
   "metadata": {},
   "outputs": [],
   "source": [
    "import pandas as pd\n",
    "\n",
    "df = pd.read_csv('MachineLearinningDataSet.csv')\n",
    "\n",
    "# Randomly select 50% of the DataFrame\n",
    "subset_df = df.sample(frac=0.5, random_state=42)"
   ]
  },
  {
   "cell_type": "code",
   "execution_count": 2,
   "id": "39c7c8ce",
   "metadata": {},
   "outputs": [
    {
     "name": "stdout",
     "output_type": "stream",
     "text": [
      "Filter Method:\n",
      "  MAE: 798523.0720\n",
      "  SMAPE: 10.4627%\n",
      "  RMSE: 2928187.1590\n",
      "  R2: 0.9589\n",
      "\n",
      "Wrapper Method:\n",
      "  MAE: 1431224.9817\n",
      "  SMAPE: 28.7225%\n",
      "  RMSE: 4052795.5255\n",
      "  R2: 0.9214\n",
      "\n",
      "Hybrid Method:\n",
      "  MAE: 1517885.7894\n",
      "  SMAPE: 34.6370%\n",
      "  RMSE: 4419371.6298\n",
      "  R2: 0.9065\n",
      "\n"
     ]
    }
   ],
   "source": [
    "import pandas as pd\n",
    "from sklearn.model_selection import train_test_split\n",
    "from sklearn.ensemble import RandomForestRegressor\n",
    "from sklearn.metrics import mean_squared_error, r2_score, mean_absolute_error\n",
    "import numpy as np\n",
    "\n",
    "df = pd.read_csv('sampled_data_FS.csv')\n",
    "\n",
    "# Define feature sets\n",
    "filter_features = ['Surface area (sq. km)', 'Agricultural land (sq. km)', 'Land area (sq. km)', 'Forest area (sq. km)', 'Agricultural methane emissions (thousand metric tons of CO2 equivalent)', 'Rural population', 'Arable land (hectares)', 'Agriculture, forestry, and fishing, value added (current US$)', 'Agricultural nitrous oxide emissions (thousand metric tons of CO2 equivalent)', 'Arable land (% of land area)', 'Average precipitation in depth (mm per year)', 'Agricultural land (% of land area)', 'Land under cereal production (hectares)']\n",
    "\n",
    "wrapper_features = ['Access to electricity, rural (% of rural population)', 'Agricultural raw materials exports (% of merchandise exports)', 'Agricultural raw materials imports (% of merchandise imports)', 'Agriculture, forestry, and fishing, value added (% of GDP)', 'Arable land (% of land area)', 'Arable land (hectares per person)', 'Employment in agriculture (% of total employment) (modeled ILO estimate)', 'Employment in agriculture, female (% of female employment) (modeled ILO estimate)', 'Employment in agriculture, male (% of male employment) (modeled ILO estimate)', 'Permanent cropland (% of land area)']\n",
    "\n",
    "hybrid_features = ['Permanent cropland (% of land area)', 'Employment in agriculture (% of total employment) (modeled ILO estimate)', 'Agricultural raw materials imports (% of merchandise imports)', 'Access to electricity, rural (% of rural population)', 'Agricultural raw materials exports (% of merchandise exports)', 'Arable land (% of land area)', 'Employment in agriculture, male (% of male employment) (modeled ILO estimate)', 'Rural population growth (annual %)', 'Arable land (hectares per person)', 'Rural population (% of total population)']\n",
    "\n",
    "target = 'Cereal production (metric tons)'\n",
    "\n",
    "def evaluate_rf(X, y):\n",
    "    X_train, X_test, y_train, y_test = train_test_split(X, y, test_size=0.2, random_state=42)\n",
    "    rf = RandomForestRegressor(n_estimators=100, random_state=42)\n",
    "    rf.fit(X_train, y_train)\n",
    "    y_pred = rf.predict(X_test)\n",
    "    mse = mean_squared_error(y_test, y_pred)\n",
    "    rmse = np.sqrt(mse)\n",
    "    r2 = r2_score(y_test, y_pred)\n",
    "    mae = mean_absolute_error(y_test, y_pred)\n",
    "    smape = np.mean(2 * np.abs(y_test - y_pred) / (np.abs(y_test) + np.abs(y_pred))) * 100\n",
    "    return rmse, r2, mae, smape\n",
    "\n",
    "# Evaluate feature sets\n",
    "results = {}\n",
    "for name, features in [('Filter', filter_features), ('Wrapper', wrapper_features), ('Hybrid', hybrid_features)]:\n",
    "    X = df[features]\n",
    "    y = df[target]\n",
    "    rmse, r2, mae, smape = evaluate_rf(X, y)\n",
    "    results[name] = {'RMSE': rmse, 'R2': r2, 'MAE': mae, 'SMAPE': smape}\n",
    "\n",
    "for method, metrics in results.items():\n",
    "    print(f\"{method} Method:\")\n",
    "    print(f\"  MAE: {metrics['MAE']:.4f}\")\n",
    "    print(f\"  SMAPE: {metrics['SMAPE']:.4f}%\")\n",
    "    print(f\"  RMSE: {metrics['RMSE']:.4f}\")\n",
    "    print(f\"  R2: {metrics['R2']:.4f}\")\n",
    "    print()\n"
   ]
  },
  {
   "cell_type": "code",
   "execution_count": null,
   "id": "6009a1be",
   "metadata": {},
   "outputs": [],
   "source": []
  }
 ],
 "metadata": {
  "kernelspec": {
   "display_name": "Python 3 (ipykernel)",
   "language": "python",
   "name": "python3"
  },
  "language_info": {
   "codemirror_mode": {
    "name": "ipython",
    "version": 3
   },
   "file_extension": ".py",
   "mimetype": "text/x-python",
   "name": "python",
   "nbconvert_exporter": "python",
   "pygments_lexer": "ipython3",
   "version": "3.11.5"
  }
 },
 "nbformat": 4,
 "nbformat_minor": 5
}
