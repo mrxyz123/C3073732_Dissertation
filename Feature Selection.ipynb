{
 "cells": [
  {
   "cell_type": "markdown",
   "id": "aa2450ad",
   "metadata": {},
   "source": [
    "# Filter Method"
   ]
  },
  {
   "cell_type": "code",
   "execution_count": 7,
   "id": "2e4bcb2c",
   "metadata": {},
   "outputs": [
    {
     "name": "stdout",
     "output_type": "stream",
     "text": [
      "Filter method selected features: ['Surface area (sq. km)', 'Agricultural land (sq. km)', 'Land area (sq. km)', 'Forest area (sq. km)', 'Agricultural methane emissions (thousand metric tons of CO2 equivalent)', 'Rural population', 'Arable land (hectares)', 'Agriculture, forestry, and fishing, value added (current US$)', 'Agricultural nitrous oxide emissions (thousand metric tons of CO2 equivalent)', 'Arable land (% of land area)', 'Average precipitation in depth (mm per year)', 'Agricultural land (% of land area)', 'Land under cereal production (hectares)']\n"
     ]
    }
   ],
   "source": [
    "import pandas as pd\n",
    "from sklearn.feature_selection import SelectKBest, f_regression, mutual_info_regression\n",
    "\n",
    "\n",
    "file_path = \"MachineLearinningDataSet.csv\"  \n",
    "df = pd.read_csv(file_path, index_col=0)  \n",
    "\n",
    "target_column = 'Cereal production (metric tons)'\n",
    "\n",
    "# Select features and target\n",
    "X = df.drop(columns=[target_column])\n",
    "y = df[target_column]\n",
    "\n",
    "# Filter Method\n",
    "k = 10\n",
    "correlation = X.corrwith(y)\n",
    "correlation_selected = correlation.abs().nlargest(k).index.tolist()\n",
    "\n",
    "f_selector = SelectKBest(score_func=f_regression, k=k)\n",
    "f_selector.fit(X, y)\n",
    "f_selected = X.columns[f_selector.get_support()].tolist()\n",
    "\n",
    "mi_selector = SelectKBest(score_func=mutual_info_regression, k=k)\n",
    "mi_selector.fit(X, y)\n",
    "mi_selected = X.columns[mi_selector.get_support()].tolist()\n",
    "\n",
    "selected_features = list(set(correlation_selected + f_selected + mi_selected))\n",
    "print(\"Filter method selected features:\", selected_features)"
   ]
  },
  {
   "cell_type": "markdown",
   "id": "c85a08f4",
   "metadata": {},
   "source": [
    "# Wrapper Method"
   ]
  },
  {
   "cell_type": "code",
   "execution_count": 5,
   "id": "02d4387d",
   "metadata": {},
   "outputs": [
    {
     "name": "stdout",
     "output_type": "stream",
     "text": [
      "Wrapper method (RFE) selected features: ['Access to electricity, rural (% of rural population)', 'Agricultural raw materials exports (% of merchandise exports)', 'Agricultural raw materials imports (% of merchandise imports)', 'Agriculture, forestry, and fishing, value added (% of GDP)', 'Arable land (% of land area)', 'Arable land (hectares per person)', 'Employment in agriculture (% of total employment) (modeled ILO estimate)', 'Employment in agriculture, female (% of female employment) (modeled ILO estimate)', 'Employment in agriculture, male (% of male employment) (modeled ILO estimate)', 'Permanent cropland (% of land area)']\n"
     ]
    }
   ],
   "source": [
    "import pandas as pd\n",
    "from sklearn.feature_selection import RFE\n",
    "from sklearn.linear_model import LinearRegression\n",
    "\n",
    "\n",
    "file_path = \"MachineLearinningDataSet.csv\" \n",
    "df = pd.read_csv(file_path, index_col=0)  \n",
    "\n",
    "\n",
    "target_column = 'Cereal production (metric tons)'\n",
    "X = df.drop(columns=[target_column])\n",
    "y = df[target_column]\n",
    "\n",
    "# Wrapper Method (RFE)\n",
    "k = 10\n",
    "model = LinearRegression()\n",
    "rfe_selector = RFE(estimator=model, n_features_to_select=k, step=1)\n",
    "rfe_selector = rfe_selector.fit(X, y)\n",
    "\n",
    "selected_features = X.columns[rfe_selector.support_].tolist()\n",
    "print(\"Wrapper method (RFE) selected features:\", selected_features)"
   ]
  },
  {
   "cell_type": "markdown",
   "id": "bebfb879",
   "metadata": {},
   "source": [
    "# Hybrid Method"
   ]
  },
  {
   "cell_type": "code",
   "execution_count": 6,
   "id": "40cd3dd7",
   "metadata": {},
   "outputs": [
    {
     "name": "stdout",
     "output_type": "stream",
     "text": [
      "Hybrid method selected features: ['Permanent cropland (% of land area)', 'Employment in agriculture (% of total employment) (modeled ILO estimate)', 'Agricultural raw materials imports (% of merchandise imports)', 'Access to electricity, rural (% of rural population)', 'Agricultural raw materials exports (% of merchandise exports)', 'Arable land (% of land area)', 'Employment in agriculture, male (% of male employment) (modeled ILO estimate)', 'Rural population growth (annual %)', 'Arable land (hectares per person)', 'Rural population (% of total population)']\n"
     ]
    }
   ],
   "source": [
    "import pandas as pd\n",
    "from sklearn.feature_selection import SelectKBest, f_regression, mutual_info_regression, RFE\n",
    "from sklearn.linear_model import LinearRegression\n",
    "\n",
    "file_path = \"MachineLearinningDataSet.csv\"  \n",
    "df = pd.read_csv(file_path, index_col=0)  \n",
    "\n",
    "target_column = 'Cereal production (metric tons)'\n",
    "\n",
    "# Select features and target\n",
    "X = df.drop(columns=[target_column])\n",
    "y = df[target_column]\n",
    "\n",
    "# Hybrid Method\n",
    "# Step 1: Filter Method\n",
    "k = 10\n",
    "correlation = X.corrwith(y)\n",
    "correlation_selected = correlation.abs().nlargest(k*2).index.tolist()\n",
    "\n",
    "f_selector = SelectKBest(score_func=f_regression, k=k*2)\n",
    "f_selector.fit(X, y)\n",
    "f_selected = X.columns[f_selector.get_support()].tolist()\n",
    "\n",
    "mi_selector = SelectKBest(score_func=mutual_info_regression, k=k*2)\n",
    "mi_selector.fit(X, y)\n",
    "mi_selected = X.columns[mi_selector.get_support()].tolist()\n",
    "\n",
    "filter_selected = list(set(correlation_selected + f_selected + mi_selected))\n",
    "\n",
    "# Step 2: Wrapper Method on filtered features\n",
    "X_filtered = X[filter_selected]\n",
    "\n",
    "model = LinearRegression()\n",
    "rfe_selector = RFE(estimator=model, n_features_to_select=k, step=1)\n",
    "rfe_selector = rfe_selector.fit(X_filtered, y)\n",
    "\n",
    "selected_features = X_filtered.columns[rfe_selector.support_].tolist()\n",
    "print(\"Hybrid method selected features:\", selected_features)"
   ]
  }
 ],
 "metadata": {
  "kernelspec": {
   "display_name": "Python 3 (ipykernel)",
   "language": "python",
   "name": "python3"
  },
  "language_info": {
   "codemirror_mode": {
    "name": "ipython",
    "version": 3
   },
   "file_extension": ".py",
   "mimetype": "text/x-python",
   "name": "python",
   "nbconvert_exporter": "python",
   "pygments_lexer": "ipython3",
   "version": "3.11.5"
  }
 },
 "nbformat": 4,
 "nbformat_minor": 5
}
